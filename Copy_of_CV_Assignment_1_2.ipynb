{
  "cells": [
    {
      "cell_type": "markdown",
      "metadata": {
        "id": "view-in-github",
        "colab_type": "text"
      },
      "source": [
        "<a href=\"https://colab.research.google.com/github/Margaret-107/calligraphy/blob/main/Copy_of_CV_Assignment_1_2.ipynb\" target=\"_parent\"><img src=\"https://colab.research.google.com/assets/colab-badge.svg\" alt=\"Open In Colab\"/></a>"
      ]
    },
    {
      "cell_type": "markdown",
      "metadata": {
        "id": "vN5lM2csj9v7"
      },
      "source": [
        "# Computer Vision Assignment 1 Part 2\n",
        "---\n",
        "\n",
        "Semester: **Fall 2022**\n",
        "\n",
        "Due date: **September 29th 2022, 11.59PM EST.**\n",
        "\n",
        "## Introduction\n",
        "---\n",
        "This assignment requires you to participate in a Kaggle competition with the rest of the class on the [German Traffic Sign Recognition Benchmark](http://benchmark.ini.rub.de/?section=gtsrb). The objective is to produce a model that gives the highest possible accuracy on the test portion of this dataset. You can register for the competition using the private link: https://www.kaggle.com/c/nyu-computer-vision-csci-ga2271-2022/overview.\n",
        "\n",
        "Skeleton code is provided in the colab below. This contains code for training a simple default model and evaluating it on the test set. The evaluation script produces a file `gtsrb_kaggle.csv` that lists the IDs of the test set images, along with their predicted label. This file should be uploaded to the Kaggle webpage, which will then produce a test accuracy score. \n",
        "\n",
        "Your goal is to implement a new model architecture that improves upon the baseline performance. You are free to implement any approach covered in class or from research papers. This part will count for 50% of the overall grade for assignment 1. This Grading will depend on your Kaggle performance and rank, as well as novelty of the architecture.  \n",
        "\n",
        "## Rules\n",
        "---\n",
        "You should make a copy of this Colab (`File->Save a copy in Drive`). Please start the assignment early and don’t be afraid to ask for help from either the TAs or myself. You are allowed to collaborate with other students in terms discussing ideas and possible solutions. However you code up the solution yourself, i.e. you must write your own code. Copying your friends code and just changing all the names of the variables is NOT ALLOWED! You are not allowed to use solutions from similar assignments in courses from other institutions, or those found elsewhere on the web.\n",
        "\n",
        "Your solutions should be submitted via the Brightspace system. This should include a brief description (in the Colab) explaining the model architectures you explored, citing any relevant papers or techniques that you used. You should also include convergence plots of training accuracy vs epoch for relevant models. \n",
        "\n",
        "## Important Details\n",
        "---\n",
        "• You are only allowed 8 submissions to the Kaggle evaluation server per day. This is to prevent over-fitting on the test dataset. So be sure to start the assignment early!\n",
        "\n",
        "• You are NOT ALLOWED to use the test set labels during training in any way. Doing so will be regarded as cheating and penalized accordingly.\n",
        "\n",
        "• The evaluation metric is accuracy, i.e. the fraction of test set examples where the predicted label agrees with the ground truth label.\n",
        "\n",
        "• You should be able to achieve a test accuracy of at least 95% \n",
        "\n",
        "• **Extra important:** Please use your NYU NetID as your team name on Kaggle, so the TAs can figure out which user you are on the leaderboard. \n",
        "\n",
        "# Dataset Preparation\n",
        "___\n",
        "\n",
        "1.  Download `dataset.zip` from the course website to your local machine.\n",
        "2.  Unzip the file. You should see a `dataset` directory with three subfolders: `training`, `validation`, and `testing`. \n",
        "3.  Go to Google Drive (on your NYU account) and make a new directory (say `cv_kaggle_assignment`).\n",
        "4.  Upload each of the three subfolders to it. \n",
        "5.  Run the code block below. It will ask for permission to mount your Google Drive (NYU account) so this colab can access it. Paste the authorization code into the box as requested. \n"
      ]
    },
    {
      "cell_type": "code",
      "execution_count": 18,
      "metadata": {
        "colab": {
          "base_uri": "https://localhost:8080/"
        },
        "id": "o0aPnIKXpWbN",
        "outputId": "d6d778d4-0576-4271-bf56-d79d13ea0cf4"
      },
      "outputs": [
        {
          "output_type": "stream",
          "name": "stdout",
          "text": [
            "Drive already mounted at /content/drive; to attempt to forcibly remount, call drive.mount(\"/content/drive\", force_remount=True).\n",
            "/content/drive/My Drive/cv_kaggle_assignment\n"
          ]
        }
      ],
      "source": [
        "# Load the Drive helper and mount\n",
        "from google.colab import drive\n",
        "drive.mount('/content/drive')\n",
        "%cd  /content/drive/'My Drive'/cv_kaggle_assignment/"
      ]
    },
    {
      "cell_type": "markdown",
      "metadata": {
        "id": "_6jVfIVtrn5u"
      },
      "source": [
        "# Dataloader"
      ]
    },
    {
      "cell_type": "code",
      "execution_count": 19,
      "metadata": {
        "id": "z21UKj_bT--_"
      },
      "outputs": [],
      "source": [
        "import torch\n",
        "from torch.utils.data import Dataset\n",
        "import torch.nn as nn\n",
        "import torch.nn.functional as F\n",
        "import torch.optim as optim\n",
        "from torchvision import datasets, transforms, models\n",
        "\n",
        "batch_size = 256\n",
        "momentum = 0.9\n",
        "lr = 0.01\n",
        "epochs = 30\n",
        "log_interval = 100\n",
        "\n",
        "class MyDataset(Dataset):\n",
        "\n",
        "    def __init__(self, X_path=\"X.pt\", y_path=\"y.pt\"):\n",
        "\n",
        "        self.X = torch.load(X_path).squeeze(1)\n",
        "        self.y = torch.load(y_path).squeeze(1)\n",
        "    \n",
        "    def __len__(self):\n",
        "        return self.X.size(0)\n",
        "\n",
        "    def __getitem__(self, idx):\n",
        "        return self.X[idx], self.y[idx]\n",
        "\n",
        "train_dataset = MyDataset(X_path=\"train/X.pt\", y_path=\"train/y.pt\")\n",
        "val_dataset = MyDataset(X_path=\"validation/X.pt\", y_path=\"validation/y.pt\")\n",
        "\n",
        "train_loader = torch.utils.data.DataLoader(\n",
        "    train_dataset, batch_size=batch_size, shuffle=True, num_workers=1)\n",
        "\n",
        "val_loader = torch.utils.data.DataLoader(\n",
        "    val_dataset, batch_size=batch_size, shuffle=True, num_workers=1)"
      ]
    },
    {
      "cell_type": "markdown",
      "metadata": {
        "id": "Qd6W0pQRvZKO"
      },
      "source": [
        "# Model"
      ]
    },
    {
      "cell_type": "code",
      "execution_count": 20,
      "metadata": {
        "id": "zeev4SoMvazV"
      },
      "outputs": [],
      "source": [
        "import torch\n",
        "import torch.nn as nn\n",
        "import torch.nn.functional as F\n",
        "\n",
        "nclasses = 43 # GTSRB has 43 classes\n",
        "\n",
        "### input = 29?\n",
        "class Net_ori(nn.Module):\n",
        "    def __init__(self):\n",
        "        super(Net, self).__init__()\n",
        "        self.conv1 = nn.Conv2d(3, 10, kernel_size=5)\n",
        "        self.conv2 = nn.Conv2d(10, 20, kernel_size=5)\n",
        "        self.conv2_drop = nn.Dropout2d()\n",
        "        self.fc1 = nn.Linear(500, 50)\n",
        "        self.fc2 = nn.Linear(50, nclasses)\n",
        "\n",
        "    def forward(self, x):\n",
        "        x = F.relu(F.max_pool2d(self.conv1(x), 2))\n",
        "        x = F.relu(F.max_pool2d(self.conv2_drop(self.conv2(x)), 2))\n",
        "        x = x.view(-1, 500)\n",
        "        x = F.relu(self.fc1(x))\n",
        "        x = F.dropout(x, training=self.training)\n",
        "        x = self.fc2(x)\n",
        "        return F.log_softmax(x,dim=1)\n"
      ]
    },
    {
      "cell_type": "code",
      "execution_count": 25,
      "metadata": {
        "id": "175kHNdof8kO"
      },
      "outputs": [],
      "source": [
        "class Net(nn.Module):\n",
        "    def __init__(self):\n",
        "        super(Net, self).__init__()\n",
        "        self.conv1 = nn.Conv2d(3, 32, padding = 1,kernel_size=3)\n",
        "        self.conv11 = nn.Conv2d(32,32,padding=1, kernel_size = 3)\n",
        "        self.bn1 = nn.BatchNorm2d(32)\n",
        "        self.conv1_drop = nn.Dropout2d(0.2)\n",
        "        self.conv2 = nn.Conv2d(32, 64,padding =1, kernel_size=3)\n",
        "        self.conv21 = nn.Conv2d(64, 64,padding =1, kernel_size=3)\n",
        "        self.bn2 = nn.BatchNorm2d(64)\n",
        "        self.conv2_drop = nn.Dropout2d(0.2)\n",
        "        self.conv3 = nn.Conv2d(64, 128, padding = 1, kernel_size=3)\n",
        "        self.conv31 = nn.Conv2d(128,128,padding = 1, kernel_size = 3)\n",
        "        self.bn3 = nn.BatchNorm2d(128)\n",
        "        self.conv3_drop = nn.Dropout2d(0.2)\n",
        "        self.fc1 = nn.Linear(128*8*8, 512)\n",
        "        self.fc2 = nn.Linear(512, nclasses)\n",
        "\n",
        "    def forward(self, x):\n",
        "        #x = self.stn(x)\n",
        "        x = self.conv1_drop(self.bn1(F.relu(self.conv11(F.relu(self.conv1(x)))))) #16\n",
        "        x = F.max_pool2d(self.conv2_drop(self. bn2(F.relu(self.conv21(F.relu(self.conv2(x)))))), 2) #8\n",
        "        x = F.max_pool2d(self.conv3_drop(self.bn3(F.relu(self.conv31(F.relu(self.conv3(x)))))), 2) #4\n",
        "        x = x.view(-1,128*8*8)\n",
        "        x = F.relu(self.fc1(x))\n",
        "        x = F.dropout(x, training=self.training)\n",
        "        x = self.fc2(x)\n",
        "        return F.log_softmax(x,dim=1)"
      ]
    },
    {
      "cell_type": "markdown",
      "metadata": {
        "id": "Ty9TAvrdvf8C"
      },
      "source": [
        "# Training"
      ]
    },
    {
      "cell_type": "code",
      "execution_count": 27,
      "metadata": {
        "colab": {
          "base_uri": "https://localhost:8080/"
        },
        "id": "_A5-OCgBvhXv",
        "outputId": "16d0a86a-1da4-47d6-fddb-3a07d4dede57"
      },
      "outputs": [
        {
          "output_type": "stream",
          "name": "stdout",
          "text": [
            "Train Epoch: 1 [0/35339 (0%)]\tLoss: 3.956172\n",
            "Train Epoch: 1 [25600/35339 (72%)]\tLoss: 0.266682\n",
            "\n",
            "Validation set: Average loss: 0.3806, Accuracy: 3416/3870 (88%)\n",
            "\n",
            "\n",
            "Saved model to model_1.pth.\n",
            "Train Epoch: 2 [0/35339 (0%)]\tLoss: 0.124729\n",
            "Train Epoch: 2 [25600/35339 (72%)]\tLoss: 0.094975\n",
            "\n",
            "Validation set: Average loss: 0.1876, Accuracy: 3637/3870 (94%)\n",
            "\n",
            "\n",
            "Saved model to model_2.pth.\n",
            "Train Epoch: 3 [0/35339 (0%)]\tLoss: 0.038625\n",
            "Train Epoch: 3 [25600/35339 (72%)]\tLoss: 0.014115\n",
            "\n",
            "Validation set: Average loss: 0.1713, Accuracy: 3690/3870 (95%)\n",
            "\n",
            "\n",
            "Saved model to model_3.pth.\n",
            "Train Epoch: 4 [0/35339 (0%)]\tLoss: 0.016754\n",
            "Train Epoch: 4 [25600/35339 (72%)]\tLoss: 0.012474\n",
            "\n",
            "Validation set: Average loss: 0.1405, Accuracy: 3724/3870 (96%)\n",
            "\n",
            "\n",
            "Saved model to model_4.pth.\n",
            "Train Epoch: 5 [0/35339 (0%)]\tLoss: 0.008310\n",
            "Train Epoch: 5 [25600/35339 (72%)]\tLoss: 0.004790\n",
            "\n",
            "Validation set: Average loss: 0.1171, Accuracy: 3738/3870 (97%)\n",
            "\n",
            "\n",
            "Saved model to model_5.pth.\n",
            "Train Epoch: 6 [0/35339 (0%)]\tLoss: 0.012876\n",
            "Train Epoch: 6 [25600/35339 (72%)]\tLoss: 0.002531\n",
            "\n",
            "Validation set: Average loss: 0.1037, Accuracy: 3749/3870 (97%)\n",
            "\n",
            "\n",
            "Saved model to model_6.pth.\n",
            "Train Epoch: 7 [0/35339 (0%)]\tLoss: 0.002355\n",
            "Train Epoch: 7 [25600/35339 (72%)]\tLoss: 0.005546\n",
            "\n",
            "Validation set: Average loss: 0.1144, Accuracy: 3746/3870 (97%)\n",
            "\n",
            "\n",
            "Saved model to model_7.pth.\n",
            "Train Epoch: 8 [0/35339 (0%)]\tLoss: 0.014342\n",
            "Train Epoch: 8 [25600/35339 (72%)]\tLoss: 0.002828\n",
            "\n",
            "Validation set: Average loss: 0.1197, Accuracy: 3741/3870 (97%)\n",
            "\n",
            "\n",
            "Saved model to model_8.pth.\n",
            "Train Epoch: 9 [0/35339 (0%)]\tLoss: 0.002253\n",
            "Train Epoch: 9 [25600/35339 (72%)]\tLoss: 0.001321\n",
            "\n",
            "Validation set: Average loss: 0.1071, Accuracy: 3765/3870 (97%)\n",
            "\n",
            "\n",
            "Saved model to model_9.pth.\n",
            "Train Epoch: 10 [0/35339 (0%)]\tLoss: 0.001530\n",
            "Train Epoch: 10 [25600/35339 (72%)]\tLoss: 0.002574\n",
            "\n",
            "Validation set: Average loss: 0.0978, Accuracy: 3775/3870 (98%)\n",
            "\n",
            "\n",
            "Saved model to model_10.pth.\n",
            "Train Epoch: 11 [0/35339 (0%)]\tLoss: 0.000235\n",
            "Train Epoch: 11 [25600/35339 (72%)]\tLoss: 0.003523\n",
            "\n",
            "Validation set: Average loss: 0.1242, Accuracy: 3754/3870 (97%)\n",
            "\n",
            "\n",
            "Saved model to model_11.pth.\n",
            "Train Epoch: 12 [0/35339 (0%)]\tLoss: 0.001287\n",
            "Train Epoch: 12 [25600/35339 (72%)]\tLoss: 0.005987\n",
            "\n",
            "Validation set: Average loss: 0.1042, Accuracy: 3763/3870 (97%)\n",
            "\n",
            "\n",
            "Saved model to model_12.pth.\n",
            "Train Epoch: 13 [0/35339 (0%)]\tLoss: 0.003240\n",
            "Train Epoch: 13 [25600/35339 (72%)]\tLoss: 0.001134\n",
            "\n",
            "Validation set: Average loss: 0.1940, Accuracy: 3706/3870 (96%)\n",
            "\n",
            "\n",
            "Saved model to model_13.pth.\n",
            "Train Epoch: 14 [0/35339 (0%)]\tLoss: 0.002344\n",
            "Train Epoch: 14 [25600/35339 (72%)]\tLoss: 0.007172\n",
            "\n",
            "Validation set: Average loss: 0.1077, Accuracy: 3759/3870 (97%)\n",
            "\n",
            "\n",
            "Saved model to model_14.pth.\n",
            "Train Epoch: 15 [0/35339 (0%)]\tLoss: 0.010831\n",
            "Train Epoch: 15 [25600/35339 (72%)]\tLoss: 0.008529\n",
            "\n",
            "Validation set: Average loss: 0.0887, Accuracy: 3783/3870 (98%)\n",
            "\n",
            "\n",
            "Saved model to model_15.pth.\n",
            "Train Epoch: 16 [0/35339 (0%)]\tLoss: 0.001128\n",
            "Train Epoch: 16 [25600/35339 (72%)]\tLoss: 0.001942\n",
            "\n",
            "Validation set: Average loss: 0.1277, Accuracy: 3747/3870 (97%)\n",
            "\n",
            "\n",
            "Saved model to model_16.pth.\n",
            "Train Epoch: 17 [0/35339 (0%)]\tLoss: 0.002581\n",
            "Train Epoch: 17 [25600/35339 (72%)]\tLoss: 0.004838\n",
            "\n",
            "Validation set: Average loss: 0.1092, Accuracy: 3757/3870 (97%)\n",
            "\n",
            "\n",
            "Saved model to model_17.pth.\n",
            "Train Epoch: 18 [0/35339 (0%)]\tLoss: 0.000621\n",
            "Train Epoch: 18 [25600/35339 (72%)]\tLoss: 0.004799\n",
            "\n",
            "Validation set: Average loss: 0.1017, Accuracy: 3771/3870 (97%)\n",
            "\n",
            "\n",
            "Saved model to model_18.pth.\n",
            "Train Epoch: 19 [0/35339 (0%)]\tLoss: 0.000521\n",
            "Train Epoch: 19 [25600/35339 (72%)]\tLoss: 0.000649\n",
            "\n",
            "Validation set: Average loss: 0.0920, Accuracy: 3779/3870 (98%)\n",
            "\n",
            "\n",
            "Saved model to model_19.pth.\n",
            "Train Epoch: 20 [0/35339 (0%)]\tLoss: 0.002100\n",
            "Train Epoch: 20 [25600/35339 (72%)]\tLoss: 0.001556\n",
            "\n",
            "Validation set: Average loss: 0.1000, Accuracy: 3766/3870 (97%)\n",
            "\n",
            "\n",
            "Saved model to model_20.pth.\n"
          ]
        }
      ],
      "source": [
        "model = Net()\n",
        "optimizer = optim.SGD(model.parameters(), lr=lr, momentum=momentum)\n",
        "\n",
        "x_points = []\n",
        "y_points = []\n",
        "\n",
        "def train(epoch):\n",
        "    model.train()\n",
        "    for batch_idx, (data, target) in enumerate(train_loader):\n",
        "        if epoch > 10:\n",
        "          lr = lr/2\n",
        "        optimizer.zero_grad()\n",
        "        output = model(data)\n",
        "        loss = F.nll_loss(output, target)\n",
        "        loss.backward()\n",
        "        optimizer.step()\n",
        "        if batch_idx % log_interval == 0:\n",
        "            print('Train Epoch: {} [{}/{} ({:.0f}%)]\\tLoss: {:.6f}'.format(\n",
        "                epoch, batch_idx * len(data), len(train_loader.dataset),\n",
        "                100. * batch_idx / len(train_loader), loss.item()))\n",
        "\n",
        "def validation():\n",
        "    model.eval()\n",
        "    validation_loss = 0\n",
        "    correct = 0\n",
        "    for data, target in val_loader:\n",
        "        output = model(data)\n",
        "        validation_loss += F.nll_loss(output, target, reduction=\"sum\").item() # sum up batch loss\n",
        "        pred = output.data.max(1, keepdim=True)[1] # get the index of the max log-probability\n",
        "        correct += pred.eq(target.data.view_as(pred)).cpu().sum()\n",
        "\n",
        "    validation_loss /= len(val_loader.dataset)\n",
        "    print('\\nValidation set: Average loss: {:.4f}, Accuracy: {}/{} ({:.0f}%)\\n'.format(\n",
        "        validation_loss, correct, len(val_loader.dataset),\n",
        "        100. * correct / len(val_loader.dataset)))\n",
        "    y_points.append(correct / len(val_loader.dataset))\n",
        "\n",
        "\n",
        "\n",
        "for epoch in range(1, epochs + 1):\n",
        "    x_points.append(epoch)\n",
        "    train(epoch)\n",
        "    validation()\n",
        "    model_file = 'model_' + str(epoch) + '.pth'\n",
        "    torch.save(model.state_dict(), model_file)\n",
        "    print('\\nSaved model to ' + model_file + '.')\n"
      ]
    },
    {
      "cell_type": "markdown",
      "source": [
        "# Ploting"
      ],
      "metadata": {
        "id": "U0Yai09N5oIw"
      }
    },
    {
      "cell_type": "code",
      "source": [
        "import numpy as np\n",
        "import matplotlib.pyplot as plt\n",
        "\n",
        "x_points = np.array(x_points)\n",
        "y_points = np.array(y_points)\n",
        "plt.plot(x_points,y_points)\n",
        "plt.xlabel(\"epoch\")\n",
        "plt.ylabel(\"accuracy\")"
      ],
      "metadata": {
        "colab": {
          "base_uri": "https://localhost:8080/",
          "height": 297
        },
        "id": "BQmLsx-v5tFo",
        "outputId": "5e8ac129-3b75-415f-c0a4-493b8ef196ed"
      },
      "execution_count": 28,
      "outputs": [
        {
          "output_type": "execute_result",
          "data": {
            "text/plain": [
              "Text(0, 0.5, 'accuracy')"
            ]
          },
          "metadata": {},
          "execution_count": 28
        },
        {
          "output_type": "display_data",
          "data": {
            "text/plain": [
              "<Figure size 432x288 with 1 Axes>"
            ],
            "image/png": "[encoded data removed]"
          },
          "metadata": {
            "needs_background": "light"
          }
        }
      ]
    },
    {
      "cell_type": "markdown",
      "metadata": {
        "id": "eVN1f1p7w59X"
      },
      "source": [
        "# Evaluate and Submit to Kaggle\n",
        "\n"
      ]
    },
    {
      "cell_type": "code",
      "execution_count": null,
      "metadata": {
        "colab": {
          "base_uri": "https://localhost:8080/"
        },
        "id": "_BM5qP64w5zB",
        "outputId": "fa9aaa66-b629-473d-b50d-63f6453dd92f"
      },
      "outputs": [
        {
          "name": "stderr",
          "output_type": "stream",
          "text": [
            "/usr/local/lib/python3.7/dist-packages/torch/nn/functional.py:4278: UserWarning: Default grid_sample and affine_grid behavior has changed to align_corners=False since 1.3.0. Please specify align_corners=True if the old behavior is desired. See the documentation of grid_sample for details.\n",
            "  \"Default grid_sample and affine_grid behavior has changed \"\n",
            "/usr/local/lib/python3.7/dist-packages/torch/nn/functional.py:4216: UserWarning: Default grid_sample and affine_grid behavior has changed to align_corners=False since 1.3.0. Please specify align_corners=True if the old behavior is desired. See the documentation of grid_sample for details.\n",
            "  \"Default grid_sample and affine_grid behavior has changed \"\n"
          ]
        },
        {
          "name": "stdout",
          "output_type": "stream",
          "text": [
            "Written to csv file gtsrb_kaggle.csv\n"
          ]
        }
      ],
      "source": [
        "import pickle\n",
        "import pandas as pd\n",
        "\n",
        "outfile = 'gtsrb_kaggle.csv'\n",
        "\n",
        "output_file = open(outfile, \"w\")\n",
        "dataframe_dict = {\"Filename\" : [], \"ClassId\": []}\n",
        "\n",
        "test_data = torch.load('testing/test.pt')\n",
        "file_ids = pickle.load(open('testing/file_ids.pkl', 'rb'))\n",
        "model.eval() # Don't forget to put your model on eval mode !\n",
        "\n",
        "for i, data in enumerate(test_data):\n",
        "    data = data.unsqueeze(0)\n",
        "\n",
        "    output = model(data)\n",
        "    pred = output.data.max(1, keepdim=True)[1].item()\n",
        "    file_id = file_ids[i][0:5]\n",
        "    dataframe_dict['Filename'].append(file_id)\n",
        "    dataframe_dict['ClassId'].append(pred)\n",
        "\n",
        "df = pd.DataFrame(data=dataframe_dict)\n",
        "df.to_csv(outfile, index=False)\n",
        "print(\"Written to csv file {}\".format(outfile))"
      ]
    },
    {
      "cell_type": "markdown",
      "metadata": {
        "id": "BhSl_4kn6sox"
      },
      "source": [
        "# Submitting to Kaggle\n",
        "\n",
        "Now download the CSV file `grtsrb_kaggle.csv` from your Google drive and then submit it to Kaggle to check the performance of your model."
      ]
    }
  ],
  "metadata": {
    "accelerator": "GPU",
    "colab": {
      "collapsed_sections": [],
      "provenance": [],
      "include_colab_link": true
    },
    "kernelspec": {
      "display_name": "Python 3",
      "name": "python3"
    }
  },
  "nbformat": 4,
  "nbformat_minor": 0
}