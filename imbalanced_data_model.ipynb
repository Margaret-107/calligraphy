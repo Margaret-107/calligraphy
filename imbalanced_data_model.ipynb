{
 "cells": [
  {
   "cell_type": "code",
   "execution_count": 1,
   "id": "94b8919f",
   "metadata": {},
   "outputs": [
    {
     "name": "stdout",
     "output_type": "stream",
     "text": [
      "INFO:tensorflow:Enabling eager execution\n",
      "INFO:tensorflow:Enabling v2 tensorshape\n",
      "INFO:tensorflow:Enabling resource variables\n",
      "INFO:tensorflow:Enabling tensor equality\n",
      "INFO:tensorflow:Enabling control flow v2\n"
     ]
    }
   ],
   "source": [
    "import tensorflow as tf\n",
    "from tensorflow import keras\n",
    "import matplotlib.pyplot as plt\n",
    "%matplotlib inline\n",
    "import numpy as np\n",
    "import glob\n",
    "import random"
   ]
  },
  {
   "cell_type": "code",
   "execution_count": 2,
   "id": "a90a9790",
   "metadata": {},
   "outputs": [],
   "source": [
    "#import helper_functions.py"
   ]
  },
  {
   "cell_type": "code",
   "execution_count": 41,
   "id": "87b65a2e",
   "metadata": {},
   "outputs": [],
   "source": [
    "from helper_functions import *"
   ]
  },
  {
   "cell_type": "code",
   "execution_count": 4,
   "id": "4fa68843",
   "metadata": {},
   "outputs": [],
   "source": [
    "#get the directory of different styles"
   ]
  },
  {
   "cell_type": "code",
   "execution_count": 5,
   "id": "a1836636",
   "metadata": {},
   "outputs": [],
   "source": [
    "zhuan_image_path = glob.glob(\"zhuanshu\\\\*.jpg\")\n",
    "kai_image_path = glob.glob(\"kaishu\\\\*.jpg\")\n",
    "li_image_path = glob.glob(\"lishu\\\\*.jpg\")\n",
    "xing_image_path = glob.glob(\"xingshu\\\\*.jpg\")\n",
    "cao_image_path = glob.glob(\"caoshu\\\\*.jpg\")"
   ]
  },
  {
   "cell_type": "code",
   "execution_count": 6,
   "id": "19b071f9",
   "metadata": {},
   "outputs": [],
   "source": [
    "#shuffle"
   ]
  },
  {
   "cell_type": "code",
   "execution_count": 7,
   "id": "e5b60173",
   "metadata": {},
   "outputs": [],
   "source": [
    "random.shuffle(zhuan_image_path)\n",
    "random.shuffle(kai_image_path)\n",
    "random.shuffle(xing_image_path)\n",
    "random.shuffle(li_image_path)\n",
    "random.shuffle(cao_image_path)"
   ]
  },
  {
   "cell_type": "code",
   "execution_count": 8,
   "id": "726d2c6d",
   "metadata": {},
   "outputs": [],
   "source": [
    "#split to test set 20% and train set 80% for each style"
   ]
  },
  {
   "cell_type": "code",
   "execution_count": 9,
   "id": "621c3e7c",
   "metadata": {},
   "outputs": [],
   "source": [
    "zhuan_test_path,zhuan_train_path = split_train_test_list(zhuan_image_path)\n",
    "kai_test_path,kai_train_path = split_train_test_list(kai_image_path)\n",
    "xing_test_path,xing_train_path = split_train_test_list(xing_image_path)\n",
    "li_test_path,li_train_path = split_train_test_list(li_image_path)\n",
    "cao_test_path,cao_train_path = split_train_test_list(cao_image_path)"
   ]
  },
  {
   "cell_type": "code",
   "execution_count": 10,
   "id": "5b9c39a5",
   "metadata": {},
   "outputs": [],
   "source": [
    "#combine to one train set and one data set"
   ]
  },
  {
   "cell_type": "code",
   "execution_count": 11,
   "id": "ac38e90b",
   "metadata": {},
   "outputs": [],
   "source": [
    "all_test_path = zhuan_test_path + kai_test_path + xing_test_path+ li_test_path+cao_test_path\n",
    "all_train_path = zhuan_train_path + kai_train_path + xing_train_path+ li_train_path+cao_train_path"
   ]
  },
  {
   "cell_type": "code",
   "execution_count": 12,
   "id": "72940c0a",
   "metadata": {},
   "outputs": [],
   "source": [
    "img_train_ds = tf.data.Dataset.from_tensor_slices(all_train_path)\n",
    "img_test_ds = tf.data.Dataset.from_tensor_slices(all_test_path)"
   ]
  },
  {
   "cell_type": "code",
   "execution_count": 13,
   "id": "60d8f0d3",
   "metadata": {},
   "outputs": [],
   "source": [
    "#AUTOTUNE: process images parallelly"
   ]
  },
  {
   "cell_type": "code",
   "execution_count": 14,
   "id": "59ddde3f",
   "metadata": {},
   "outputs": [],
   "source": [
    "AUTOTUNE = tf.data.experimental.AUTOTUNE\n",
    "img_test_ds = img_test_ds.map(load_and_preprocess_image, num_parallel_calls=AUTOTUNE)\n",
    "img_train_ds = img_train_ds.map(load_and_preprocess_image, num_parallel_calls=AUTOTUNE)"
   ]
  },
  {
   "cell_type": "code",
   "execution_count": 15,
   "id": "c6c1fb17",
   "metadata": {},
   "outputs": [],
   "source": [
    "#classify different styles"
   ]
  },
  {
   "cell_type": "code",
   "execution_count": 16,
   "id": "d8bb9d03",
   "metadata": {},
   "outputs": [],
   "source": [
    "label_to_index = {'kaishu': 0,  'lishu': 1,'xingshu': 2,'caoshu': 3,'zhuanshu': 4}\n",
    "index_to_label = dict((v, k) for k, v in label_to_index.items())"
   ]
  },
  {
   "cell_type": "code",
   "execution_count": 17,
   "id": "948907f1",
   "metadata": {},
   "outputs": [],
   "source": [
    "#creat two lists for the class of each image"
   ]
  },
  {
   "cell_type": "code",
   "execution_count": 18,
   "id": "3fa55c24",
   "metadata": {},
   "outputs": [],
   "source": [
    "test_labels = [label_to_index.get(p.split('\\\\')[0]) for p in all_test_path]\n",
    "train_labels = [label_to_index.get(p.split('\\\\')[0]) for p in all_train_path]"
   ]
  },
  {
   "cell_type": "code",
   "execution_count": 19,
   "id": "86f332da",
   "metadata": {},
   "outputs": [],
   "source": [
    "#convert to tf type"
   ]
  },
  {
   "cell_type": "code",
   "execution_count": 20,
   "id": "03e1c68d",
   "metadata": {},
   "outputs": [],
   "source": [
    "label_test_ds = tf.data.Dataset.from_tensor_slices(test_labels)\n",
    "label_train_ds = tf.data.Dataset.from_tensor_slices(train_labels)"
   ]
  },
  {
   "cell_type": "code",
   "execution_count": 21,
   "id": "a8551259",
   "metadata": {},
   "outputs": [],
   "source": [
    "#create datasets"
   ]
  },
  {
   "cell_type": "code",
   "execution_count": 22,
   "id": "c1eeb5fc",
   "metadata": {},
   "outputs": [],
   "source": [
    "train_ds = tf.data.Dataset.zip((img_train_ds, label_train_ds))\n",
    "test_ds = tf.data.Dataset.zip((img_test_ds, label_test_ds))"
   ]
  },
  {
   "cell_type": "code",
   "execution_count": 23,
   "id": "4c28752d",
   "metadata": {},
   "outputs": [],
   "source": [
    "#batch"
   ]
  },
  {
   "cell_type": "code",
   "execution_count": 24,
   "id": "a6e06a69",
   "metadata": {},
   "outputs": [],
   "source": [
    "BATCH_SIZE = 16\n",
    "train_ds = train_ds.repeat().shuffle(buffer_size=len(img_train_ds)).batch(BATCH_SIZE)\n",
    "test_ds = test_ds.batch(BATCH_SIZE)"
   ]
  },
  {
   "cell_type": "code",
   "execution_count": 25,
   "id": "625c9011",
   "metadata": {},
   "outputs": [],
   "source": [
    "#model"
   ]
  },
  {
   "cell_type": "code",
   "execution_count": 26,
   "id": "db4017ed",
   "metadata": {},
   "outputs": [],
   "source": [
    "model = tf.keras.Sequential([\n",
    "             tf.keras.layers.Conv2D(64, (3, 3), input_shape=(256, 256, 3), \n",
    "                                    activation='relu'),\n",
    "             tf.keras.layers.BatchNormalization(),\n",
    "             tf.keras.layers.Conv2D(64, (3, 3), activation='relu'),\n",
    "             tf.keras.layers.BatchNormalization(),\n",
    "             tf.keras.layers.MaxPooling2D(),\n",
    "             tf.keras.layers.Conv2D(128, (3, 3), activation='relu'),\n",
    "             tf.keras.layers.BatchNormalization(),\n",
    "             tf.keras.layers.Conv2D(128, (3, 3), activation='relu'),\n",
    "             tf.keras.layers.BatchNormalization(),\n",
    "             tf.keras.layers.MaxPooling2D(),\n",
    "             tf.keras.layers.Conv2D(256, (3, 3), activation='relu'),\n",
    "             tf.keras.layers.BatchNormalization(),\n",
    "             tf.keras.layers.Conv2D(256, (3, 3), activation='relu'),\n",
    "             tf.keras.layers.BatchNormalization(),\n",
    "             tf.keras.layers.MaxPooling2D(),\n",
    "             tf.keras.layers.Conv2D(512, (3, 3), activation='relu'),\n",
    "             tf.keras.layers.BatchNormalization(),\n",
    "             tf.keras.layers.Conv2D(512, (3, 3), activation='relu'),\n",
    "             tf.keras.layers.BatchNormalization(),\n",
    "             tf.keras.layers.MaxPooling2D(),\n",
    "             tf.keras.layers.Conv2D(512, (3, 3), activation='relu'),\n",
    "             tf.keras.layers.BatchNormalization(),\n",
    "             tf.keras.layers.Conv2D(512, (3, 3), activation='relu'),\n",
    "             tf.keras.layers.BatchNormalization(),\n",
    "             tf.keras.layers.Conv2D(512, (3, 3), activation='relu'),\n",
    "             tf.keras.layers.BatchNormalization(),\n",
    "             tf.keras.layers.GlobalAveragePooling2D(),\n",
    "             tf.keras.layers.Dense(1024, activation='relu'),\n",
    "             tf.keras.layers.BatchNormalization(),\n",
    "             tf.keras.layers.Dense(5)    \n",
    "]) "
   ]
  },
  {
   "cell_type": "code",
   "execution_count": 27,
   "id": "4f7b3d6e",
   "metadata": {},
   "outputs": [],
   "source": [
    "#compile model"
   ]
  },
  {
   "cell_type": "code",
   "execution_count": 28,
   "id": "7f02c3d7",
   "metadata": {},
   "outputs": [],
   "source": [
    "model.compile(optimizer=tf.keras.optimizers.Adam(0.0001),\n",
    "              loss=tf.keras.losses.SparseCategoricalCrossentropy(from_logits=True),\n",
    "              metrics=['acc']\n",
    ")\n"
   ]
  },
  {
   "cell_type": "code",
   "execution_count": 29,
   "id": "a7df4cb1",
   "metadata": {},
   "outputs": [],
   "source": [
    "#two arguments for fit"
   ]
  },
  {
   "cell_type": "code",
   "execution_count": 30,
   "id": "3e03ceea",
   "metadata": {},
   "outputs": [],
   "source": [
    "steps_per_epoch = len(img_train_ds)//BATCH_SIZE\n",
    "validation_steps = len(img_test_ds)//BATCH_SIZE"
   ]
  },
  {
   "cell_type": "code",
   "execution_count": 31,
   "id": "6b67fdb5",
   "metadata": {},
   "outputs": [],
   "source": [
    "#fit"
   ]
  },
  {
   "cell_type": "code",
   "execution_count": 32,
   "id": "777a3e70",
   "metadata": {},
   "outputs": [
    {
     "name": "stdout",
     "output_type": "stream",
     "text": [
      "Epoch 1/10\n",
      "875/875 [==============================] - 299s 229ms/step - loss: 0.8932 - acc: 0.7118 - val_loss: 1.1016 - val_acc: 0.7127\n",
      "Epoch 2/10\n",
      "875/875 [==============================] - 186s 212ms/step - loss: 0.5126 - acc: 0.8154 - val_loss: 0.8470 - val_acc: 0.7205\n",
      "Epoch 3/10\n",
      "875/875 [==============================] - 312s 357ms/step - loss: 0.4118 - acc: 0.8516 - val_loss: 0.7988 - val_acc: 0.7523\n",
      "Epoch 4/10\n",
      "875/875 [==============================] - 369s 421ms/step - loss: 0.3653 - acc: 0.8722 - val_loss: 0.4075 - val_acc: 0.8802\n",
      "Epoch 5/10\n",
      "875/875 [==============================] - 256s 292ms/step - loss: 0.3008 - acc: 0.8952 - val_loss: 0.5024 - val_acc: 0.8111\n",
      "Epoch 6/10\n",
      "875/875 [==============================] - 368s 420ms/step - loss: 0.2951 - acc: 0.8963 - val_loss: 0.3047 - val_acc: 0.8936\n",
      "Epoch 7/10\n",
      "875/875 [==============================] - 271s 310ms/step - loss: 0.2629 - acc: 0.9022 - val_loss: 0.3864 - val_acc: 0.8641\n",
      "Epoch 8/10\n",
      "875/875 [==============================] - 248s 282ms/step - loss: 0.2429 - acc: 0.9147 - val_loss: 0.3708 - val_acc: 0.8790\n",
      "Epoch 9/10\n",
      "875/875 [==============================] - 274s 314ms/step - loss: 0.2262 - acc: 0.9190 - val_loss: 0.2619 - val_acc: 0.9071\n",
      "Epoch 10/10\n",
      "875/875 [==============================] - 274s 313ms/step - loss: 0.2010 - acc: 0.9286 - val_loss: 0.2448 - val_acc: 0.9134\n"
     ]
    }
   ],
   "source": [
    "history = model.fit(train_ds, epochs=10, \n",
    "                    steps_per_epoch=steps_per_epoch, \n",
    "                    validation_data=test_ds, \n",
    "                    validation_steps=validation_steps)"
   ]
  },
  {
   "cell_type": "code",
   "execution_count": 33,
   "id": "27f44b1a",
   "metadata": {},
   "outputs": [
    {
     "data": {
      "text/plain": [
       "<matplotlib.legend.Legend at 0x1f36e4d2640>"
      ]
     },
     "execution_count": 33,
     "metadata": {},
     "output_type": "execute_result"
    },
    {
     "data": {
      "image/png": "[encoded data removed]",
      "text/plain": [
       "<Figure size 432x288 with 1 Axes>"
      ]
     },
     "metadata": {
      "needs_background": "light"
     },
     "output_type": "display_data"
    }
   ],
   "source": [
    "plt.plot(history.epoch, history.history.get('acc'), label='acc')\n",
    "plt.plot(history.epoch, history.history.get('val_acc'), label='val_acc')\n",
    "plt.legend()"
   ]
  },
  {
   "cell_type": "code",
   "execution_count": 34,
   "id": "6161a472",
   "metadata": {},
   "outputs": [
    {
     "data": {
      "text/plain": [
       "<matplotlib.legend.Legend at 0x1f4ef1392b0>"
      ]
     },
     "execution_count": 34,
     "metadata": {},
     "output_type": "execute_result"
    },
    {
     "data": {
      "image/png": "[encoded data removed]",
      "text/plain": [
       "<Figure size 432x288 with 1 Axes>"
      ]
     },
     "metadata": {
      "needs_background": "light"
     },
     "output_type": "display_data"
    }
   ],
   "source": [
    "plt.plot(history.epoch, history.history.get('loss'), label='loss')\n",
    "plt.plot(history.epoch, history.history.get('val_loss'), label='val_loss')\n",
    "plt.legend()"
   ]
  },
  {
   "cell_type": "code",
   "execution_count": 44,
   "id": "9efc9517",
   "metadata": {},
   "outputs": [],
   "source": [
    "def test_image(path):\n",
    "    test_tensor = load_and_preprocess_image(path)\n",
    "    test_tensor = tf.expand_dims(test_tensor, axis=0)\n",
    "    return model.predict(test_tensor)\n"
   ]
  },
  {
   "cell_type": "code",
   "execution_count": 52,
   "id": "79dba2e1",
   "metadata": {},
   "outputs": [],
   "source": [
    "a = test_image('D:\\caligraphy\\char\\乌字\\乌字 草书 王宠.jpg')"
   ]
  },
  {
   "cell_type": "code",
   "execution_count": 53,
   "id": "52b05d37",
   "metadata": {},
   "outputs": [
    {
     "data": {
      "text/plain": [
       "array([[-7.3535423, -1.9126395, -1.094583 ,  6.243654 ,  3.5415008]],\n",
       "      dtype=float32)"
      ]
     },
     "execution_count": 53,
     "metadata": {},
     "output_type": "execute_result"
    }
   ],
   "source": [
    "a\n"
   ]
  },
  {
   "cell_type": "code",
   "execution_count": 54,
   "id": "9b90e25a",
   "metadata": {},
   "outputs": [
    {
     "data": {
      "text/plain": [
       "'caoshu'"
      ]
     },
     "execution_count": 54,
     "metadata": {},
     "output_type": "execute_result"
    }
   ],
   "source": [
    "index_to_label.get(np.argmax(a))"
   ]
  },
  {
   "cell_type": "code",
   "execution_count": 55,
   "id": "6c8043bc",
   "metadata": {},
   "outputs": [],
   "source": [
    "model.save('imbalanced_data_model.h5')"
   ]
  },
  {
   "cell_type": "code",
   "execution_count": 56,
   "id": "dc05bec7",
   "metadata": {},
   "outputs": [],
   "source": [
    "model.save_weights('imbalanced_data_model_weights.h5')"
   ]
  },
  {
   "cell_type": "code",
   "execution_count": null,
   "id": "d8d5cb9e",
   "metadata": {},
   "outputs": [],
   "source": []
  }
 ],
 "metadata": {
  "kernelspec": {
   "display_name": "Python 3",
   "language": "python",
   "name": "python3"
  },
  "language_info": {
   "codemirror_mode": {
    "name": "ipython",
    "version": 3
   },
   "file_extension": ".py",
   "mimetype": "text/x-python",
   "name": "python",
   "nbconvert_exporter": "python",
   "pygments_lexer": "ipython3",
   "version": "3.9.0"
  }
 },
 "nbformat": 4,
 "nbformat_minor": 5
}
