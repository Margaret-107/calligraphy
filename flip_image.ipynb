{
 "cells": [
  {
   "cell_type": "code",
   "execution_count": 8,
   "id": "dbaf6675",
   "metadata": {},
   "outputs": [],
   "source": [
    "import tensorflow as tf\n",
    "from tensorflow import keras\n",
    "import matplotlib.pyplot as plt\n",
    "import numpy as np\n",
    "import glob\n",
    "import random\n",
    "from PIL import Image"
   ]
  },
  {
   "cell_type": "code",
   "execution_count": 9,
   "id": "f49eed62",
   "metadata": {},
   "outputs": [],
   "source": [
    "kai_image_path = glob.glob(\"kaishu_new\\\\*.jpg\")"
   ]
  },
  {
   "cell_type": "code",
   "execution_count": 25,
   "id": "c8b0d27c",
   "metadata": {},
   "outputs": [],
   "source": [
    "li_image_path = glob.glob(\"lishu_new\\\\*.jpg\")"
   ]
  },
  {
   "cell_type": "code",
   "execution_count": null,
   "id": "d0f8bacf",
   "metadata": {},
   "outputs": [],
   "source": [
    "zhuan_image_path = glob.glob(\"zhuan_new\\\\*.jpg\")"
   ]
  },
  {
   "cell_type": "code",
   "execution_count": 23,
   "id": "fafc5129",
   "metadata": {},
   "outputs": [],
   "source": [
    "def flip_img(list):\n",
    "    for img in list:\n",
    "        original_img = Image.open(img)\n",
    "        flip_img = original_img.transpose(method=Image.FLIP_LEFT_RIGHT)\n",
    "        path = img.split('\\\\')[1].replace('.jpg','')+'_flip.jpg'\n",
    "        path = 'lishu_flip\\\\'+path      #this line need to be modified \n",
    "        flip_img.save(path)"
   ]
  },
  {
   "cell_type": "code",
   "execution_count": 26,
   "id": "a9628550",
   "metadata": {},
   "outputs": [],
   "source": [
    "flip_img(li_image_path)"
   ]
  },
  {
   "cell_type": "code",
   "execution_count": null,
   "id": "86fb52fe",
   "metadata": {},
   "outputs": [],
   "source": []
  }
 ],
 "metadata": {
  "kernelspec": {
   "display_name": "Python 3",
   "language": "python",
   "name": "python3"
  },
  "language_info": {
   "codemirror_mode": {
    "name": "ipython",
    "version": 3
   },
   "file_extension": ".py",
   "mimetype": "text/x-python",
   "name": "python",
   "nbconvert_exporter": "python",
   "pygments_lexer": "ipython3",
   "version": "3.9.0"
  }
 },
 "nbformat": 4,
 "nbformat_minor": 5
}
